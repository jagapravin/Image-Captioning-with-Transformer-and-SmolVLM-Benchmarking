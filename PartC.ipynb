{
 "cells": [
  {
   "cell_type": "code",
   "execution_count": null,
   "id": "7a777b98",
   "metadata": {
    "execution": {
     "iopub.execute_input": "2025-04-13T03:40:40.989832Z",
     "iopub.status.busy": "2025-04-13T03:40:40.989257Z",
     "iopub.status.idle": "2025-04-13T03:41:05.933821Z",
     "shell.execute_reply": "2025-04-13T03:41:05.933261Z",
     "shell.execute_reply.started": "2025-04-13T03:40:40.989802Z"
    },
    "trusted": true
   },
   "outputs": [],
   "source": [
    "import random\n",
    "from itertools import product\n",
    "\n",
    "import matplotlib.pyplot as plt\n",
    "import numpy as np\n",
    "import pandas as pd\n",
    "import torch\n",
    "import torch.nn as nn\n",
    "from sklearn.metrics import (\n",
    "    ConfusionMatrixDisplay,\n",
    "    accuracy_score,\n",
    "    classification_report,\n",
    "    confusion_matrix,\n",
    "    precision_recall_fscore_support,\n",
    ")\n",
    "from sklearn.model_selection import train_test_split\n",
    "from torch.optim import AdamW\n",
    "from torch.optim.lr_scheduler import ReduceLROnPlateau\n",
    "from torch.utils.data import DataLoader, Dataset\n",
    "from tqdm.auto import tqdm\n",
    "from transformers import BertModel, BertTokenizer"
   ]
  },
  {
   "cell_type": "code",
   "execution_count": null,
   "id": "b439446d",
   "metadata": {
    "execution": {
     "iopub.execute_input": "2025-04-13T03:41:05.934865Z",
     "iopub.status.busy": "2025-04-13T03:41:05.934443Z",
     "iopub.status.idle": "2025-04-13T03:41:05.943056Z",
     "shell.execute_reply": "2025-04-13T03:41:05.942313Z",
     "shell.execute_reply.started": "2025-04-13T03:41:05.934847Z"
    },
    "trusted": true
   },
   "outputs": [],
   "source": [
    "def set_seed(seed=42):\n",
    "    random.seed(seed)\n",
    "    np.random.seed(seed)\n",
    "    torch.manual_seed(seed)\n",
    "    torch.cuda.manual_seed_all(seed)\n",
    "    torch.backends.cudnn.deterministic = True\n",
    "    torch.backends.cudnn.benchmark = False\n",
    "\n",
    "\n",
    "set_seed()\n",
    "DEVICE = \"cuda\" if torch.cuda.is_available() else \"cpu\"\n",
    "BATCH_SIZE = 64"
   ]
  },
  {
   "cell_type": "code",
   "execution_count": null,
   "id": "5b12452e",
   "metadata": {
    "execution": {
     "iopub.execute_input": "2025-04-13T03:41:05.945650Z",
     "iopub.status.busy": "2025-04-13T03:41:05.945384Z",
     "iopub.status.idle": "2025-04-13T03:41:06.118164Z",
     "shell.execute_reply": "2025-04-13T03:41:06.117581Z",
     "shell.execute_reply.started": "2025-04-13T03:41:05.945627Z"
    },
    "trusted": true
   },
   "outputs": [],
   "source": [
    "data_frame = pd.read_csv(\"/kaggle/input/dataset/classifier_data.csv\")\n",
    "data_frame = data_frame.iloc[:, 1:]\n",
    "data_frame.head()"
   ]
  },
  {
   "cell_type": "markdown",
   "id": "6de2b0d7",
   "metadata": {},
   "source": [
    "###  Format Input Texts and Labels for Classifier\n"
   ]
  },
  {
   "cell_type": "code",
   "execution_count": null,
   "id": "49138dfa",
   "metadata": {
    "execution": {
     "iopub.execute_input": "2025-04-13T03:41:06.119107Z",
     "iopub.status.busy": "2025-04-13T03:41:06.118874Z",
     "iopub.status.idle": "2025-04-13T03:41:06.175385Z",
     "shell.execute_reply": "2025-04-13T03:41:06.174638Z",
     "shell.execute_reply.started": "2025-04-13T03:41:06.119090Z"
    },
    "trusted": true
   },
   "outputs": [],
   "source": [
    "def format_input(row):\n",
    "    return f\"{row['original_caption']} <SEP> {row['generated_caption']} <SEP> {row['perturbation_percentage']}\"\n",
    "\n",
    "\n",
    "data_frame[\"input_text\"] = data_frame.apply(format_input, axis=1)\n",
    "data_frame[\"label\"] = data_frame[\"model_type\"].apply(\n",
    "    lambda x: 0 if x == \"Model A (SmolVLM)\" else 1\n",
    ")"
   ]
  },
  {
   "cell_type": "code",
   "execution_count": null,
   "id": "472bf0a8",
   "metadata": {
    "execution": {
     "iopub.execute_input": "2025-04-13T03:41:06.176401Z",
     "iopub.status.busy": "2025-04-13T03:41:06.176186Z",
     "iopub.status.idle": "2025-04-13T03:41:06.183149Z",
     "shell.execute_reply": "2025-04-13T03:41:06.182644Z",
     "shell.execute_reply.started": "2025-04-13T03:41:06.176384Z"
    },
    "trusted": true
   },
   "outputs": [],
   "source": [
    "print(f\"SmolVLM examples: {sum(data_frame['label'] == 0)}\")\n",
    "print(f\"Custom Model examples: {sum(data_frame['label'] == 1)}\")"
   ]
  },
  {
   "cell_type": "code",
   "execution_count": null,
   "id": "2e3572d4",
   "metadata": {
    "execution": {
     "iopub.execute_input": "2025-04-13T03:41:06.184064Z",
     "iopub.status.busy": "2025-04-13T03:41:06.183811Z",
     "iopub.status.idle": "2025-04-13T03:41:06.199699Z",
     "shell.execute_reply": "2025-04-13T03:41:06.199075Z",
     "shell.execute_reply.started": "2025-04-13T03:41:06.184048Z"
    },
    "trusted": true
   },
   "outputs": [],
   "source": [
    "data_frame.head()"
   ]
  },
  {
   "cell_type": "markdown",
   "id": "50b21cd6",
   "metadata": {},
   "source": [
    "###  Split Data into Train, Validation, and Test Sets"
   ]
  },
  {
   "cell_type": "code",
   "execution_count": null,
   "id": "2a349a1e",
   "metadata": {
    "execution": {
     "iopub.execute_input": "2025-04-13T03:41:06.200638Z",
     "iopub.status.busy": "2025-04-13T03:41:06.200325Z",
     "iopub.status.idle": "2025-04-13T03:41:06.223307Z",
     "shell.execute_reply": "2025-04-13T03:41:06.222608Z",
     "shell.execute_reply.started": "2025-04-13T03:41:06.200613Z"
    },
    "trusted": true
   },
   "outputs": [],
   "source": [
    "train_texts, temp_texts, train_labels, temp_labels = train_test_split(\n",
    "    data_frame[\"input_text\"],\n",
    "    data_frame[\"label\"],\n",
    "    test_size=0.3,\n",
    "    random_state=42,\n",
    "    stratify=data_frame[\"label\"],\n",
    ")\n",
    "\n",
    "val_texts, test_texts, val_labels, test_labels = train_test_split(\n",
    "    temp_texts, temp_labels, test_size=2 / 3, random_state=42, stratify=temp_labels\n",
    ")"
   ]
  },
  {
   "cell_type": "markdown",
   "id": "2b7f9f4a",
   "metadata": {},
   "source": [
    "### Tokenize Texts and Prepare Labels with BERT Tokenizer"
   ]
  },
  {
   "cell_type": "code",
   "execution_count": null,
   "id": "b7073059",
   "metadata": {
    "execution": {
     "iopub.execute_input": "2025-04-13T03:41:06.224510Z",
     "iopub.status.busy": "2025-04-13T03:41:06.224210Z",
     "iopub.status.idle": "2025-04-13T03:41:07.600545Z",
     "shell.execute_reply": "2025-04-13T03:41:07.599951Z",
     "shell.execute_reply.started": "2025-04-13T03:41:06.224485Z"
    },
    "trusted": true
   },
   "outputs": [],
   "source": [
    "tokenizer = BertTokenizer.from_pretrained(\"bert-base-uncased\")\n",
    "\n",
    "\n",
    "def tokenize(texts, labels):\n",
    "    encodings = tokenizer(\n",
    "        list(texts), truncation=True, padding=True, return_tensors=\"pt\", max_length=512\n",
    "    )\n",
    "    labels = torch.tensor(list(labels.values))\n",
    "    return encodings, labels\n"
   ]
  },
  {
   "cell_type": "markdown",
   "id": "d9a35dbb",
   "metadata": {},
   "source": [
    "### Tokenize Train, Validation, and Test Splits"
   ]
  },
  {
   "cell_type": "code",
   "execution_count": null,
   "id": "23df84ce",
   "metadata": {
    "execution": {
     "iopub.execute_input": "2025-04-13T03:41:07.602931Z",
     "iopub.status.busy": "2025-04-13T03:41:07.602654Z",
     "iopub.status.idle": "2025-04-13T03:41:20.653174Z",
     "shell.execute_reply": "2025-04-13T03:41:20.652622Z",
     "shell.execute_reply.started": "2025-04-13T03:41:07.602912Z"
    },
    "trusted": true
   },
   "outputs": [],
   "source": [
    "train_encodings, train_labels = tokenize(train_texts, train_labels)\n",
    "val_encodings, val_labels = tokenize(val_texts, val_labels)\n",
    "test_encodings, test_labels = tokenize(test_texts, test_labels)"
   ]
  },
  {
   "cell_type": "markdown",
   "id": "9d057f46",
   "metadata": {},
   "source": [
    "###  CaptionClassifierDataset: Dataset for BERT-based Classification"
   ]
  },
  {
   "cell_type": "code",
   "execution_count": null,
   "id": "68a4a5f5",
   "metadata": {
    "execution": {
     "iopub.execute_input": "2025-04-13T03:41:20.654001Z",
     "iopub.status.busy": "2025-04-13T03:41:20.653794Z",
     "iopub.status.idle": "2025-04-13T03:41:20.658419Z",
     "shell.execute_reply": "2025-04-13T03:41:20.657703Z",
     "shell.execute_reply.started": "2025-04-13T03:41:20.653985Z"
    },
    "trusted": true
   },
   "outputs": [],
   "source": [
    "class CaptionClassifierDataset(Dataset):\n",
    "    def __init__(self, encodings, labels):\n",
    "        self.encodings = encodings\n",
    "        self.labels = labels\n",
    "\n",
    "    def __getitem__(self, idx):\n",
    "        return {\n",
    "            \"input_ids\": self.encodings[\"input_ids\"][idx],\n",
    "            \"attention_mask\": self.encodings[\"attention_mask\"][idx],\n",
    "            \"labels\": self.labels[idx],\n",
    "        }\n",
    "\n",
    "    def __len__(self):\n",
    "        return len(self.labels)"
   ]
  },
  {
   "cell_type": "code",
   "execution_count": null,
   "id": "896da9c1",
   "metadata": {
    "execution": {
     "iopub.execute_input": "2025-04-13T03:41:20.659348Z",
     "iopub.status.busy": "2025-04-13T03:41:20.659132Z",
     "iopub.status.idle": "2025-04-13T03:41:20.678733Z",
     "shell.execute_reply": "2025-04-13T03:41:20.678040Z",
     "shell.execute_reply.started": "2025-04-13T03:41:20.659332Z"
    },
    "trusted": true
   },
   "outputs": [],
   "source": [
    "train_dataset = CaptionClassifierDataset(train_encodings, train_labels)\n",
    "val_dataset = CaptionClassifierDataset(val_encodings, val_labels)\n",
    "test_dataset = CaptionClassifierDataset(test_encodings, test_labels)"
   ]
  },
  {
   "cell_type": "code",
   "execution_count": null,
   "id": "fe2b6d4a",
   "metadata": {
    "execution": {
     "iopub.execute_input": "2025-04-13T03:41:20.679732Z",
     "iopub.status.busy": "2025-04-13T03:41:20.679484Z",
     "iopub.status.idle": "2025-04-13T03:41:20.694511Z",
     "shell.execute_reply": "2025-04-13T03:41:20.693970Z",
     "shell.execute_reply.started": "2025-04-13T03:41:20.679705Z"
    },
    "trusted": true
   },
   "outputs": [],
   "source": [
    "train_loader = DataLoader(\n",
    "    train_dataset, batch_size=BATCH_SIZE, shuffle=True, num_workers=2, pin_memory=True\n",
    ")\n",
    "val_loader = DataLoader(\n",
    "    val_dataset, batch_size=BATCH_SIZE, shuffle=False, num_workers=2, pin_memory=True\n",
    ")\n",
    "test_loader = DataLoader(\n",
    "    test_dataset, batch_size=BATCH_SIZE, shuffle=False, num_workers=2, pin_memory=True\n",
    ")"
   ]
  },
  {
   "cell_type": "markdown",
   "id": "d47238f5",
   "metadata": {},
   "source": [
    "###  CaptionClassifier: BERT-based Classifier for Caption Prediction"
   ]
  },
  {
   "cell_type": "code",
   "execution_count": null,
   "id": "c26f279e",
   "metadata": {
    "execution": {
     "iopub.execute_input": "2025-04-13T03:41:20.695598Z",
     "iopub.status.busy": "2025-04-13T03:41:20.695386Z",
     "iopub.status.idle": "2025-04-13T03:41:20.710628Z",
     "shell.execute_reply": "2025-04-13T03:41:20.709795Z",
     "shell.execute_reply.started": "2025-04-13T03:41:20.695583Z"
    },
    "trusted": true
   },
   "outputs": [],
   "source": [
    "class CaptionClassifier(torch.nn.Module):\n",
    "    def __init__(self, num_classes=2, dropout=0.3):\n",
    "        super(CaptionClassifier, self).__init__()\n",
    "        self.bert = BertModel.from_pretrained(\"bert-base-uncased\")\n",
    "        for param in self.bert.parameters():\n",
    "            param.requires_grad = False\n",
    "        self.dropout = torch.nn.Dropout(dropout)\n",
    "        self.classifier = nn.Linear(self.bert.config.hidden_size, num_classes)\n",
    "\n",
    "    def forward(self, input_ids, attention_mask):\n",
    "        with torch.no_grad():\n",
    "            outputs = self.bert(input_ids=input_ids, attention_mask=attention_mask)\n",
    "        x = self.dropout(outputs.pooler_output)\n",
    "        return self.classifier(x)\n",
    "\n",
    "    def predict(self, dataloader):\n",
    "        self.eval()\n",
    "        all_preds = []\n",
    "        with torch.no_grad(), tqdm(total=len(dataloader), desc=\"Predicting\") as pbar:\n",
    "            for batch in dataloader:\n",
    "                input_ids = batch[\"input_ids\"].to(DEVICE)\n",
    "                attention_mask = batch[\"attention_mask\"].to(DEVICE)\n",
    "\n",
    "                outputs = self(input_ids, attention_mask)\n",
    "                preds = torch.argmax(outputs, dim=1)\n",
    "                all_preds.extend(preds.cpu().numpy())\n",
    "                pbar.update(1)\n",
    "        return np.array(all_preds)"
   ]
  },
  {
   "cell_type": "markdown",
   "id": "ce7c1739",
   "metadata": {},
   "source": [
    "###  Evaluate Classifier: Accuracy, Precision, Recall, F1 Score\n"
   ]
  },
  {
   "cell_type": "code",
   "execution_count": null,
   "id": "08ada6ef",
   "metadata": {
    "execution": {
     "iopub.execute_input": "2025-04-13T03:41:20.711743Z",
     "iopub.status.busy": "2025-04-13T03:41:20.711467Z",
     "iopub.status.idle": "2025-04-13T03:41:20.727908Z",
     "shell.execute_reply": "2025-04-13T03:41:20.727111Z",
     "shell.execute_reply.started": "2025-04-13T03:41:20.711719Z"
    },
    "trusted": true
   },
   "outputs": [],
   "source": [
    "def evaluate_classifier(model, dataloader, DEVICE, metric=\"all\"):\n",
    "    model.eval()\n",
    "    all_preds = []\n",
    "    all_labels = []\n",
    "\n",
    "    with torch.no_grad(), tqdm(total=len(dataloader), desc=\"Evaluating\") as pbar:\n",
    "        for batch in dataloader:\n",
    "            input_ids = batch[\"input_ids\"].to(DEVICE)\n",
    "            attention_mask = batch[\"attention_mask\"].to(DEVICE)\n",
    "            labels = batch[\"labels\"].to(DEVICE)\n",
    "\n",
    "            outputs = model(input_ids, attention_mask)\n",
    "            preds = torch.argmax(outputs, dim=1)\n",
    "\n",
    "            all_preds.extend(preds.cpu().numpy())\n",
    "            all_labels.extend(labels.cpu().numpy())\n",
    "            pbar.update(1)\n",
    "\n",
    "    if metric == \"accuracy\":\n",
    "        return accuracy_score(all_labels, all_preds)\n",
    "    else:\n",
    "        precision, recall, f1, _ = precision_recall_fscore_support(\n",
    "            all_labels, all_preds, average=\"macro\"\n",
    "        )\n",
    "        print(\n",
    "            \"Classification Report:\\n\",\n",
    "            classification_report(\n",
    "                all_labels, all_preds, target_names=[\"SmolVLM\", \"Custom Model\"]\n",
    "            ),\n",
    "        )\n",
    "        return {\n",
    "            \"precision\": precision,\n",
    "            \"recall\": recall,\n",
    "            \"f1\": f1,\n",
    "            \"accuracy\": accuracy_score(all_labels, all_preds),\n",
    "        }"
   ]
  },
  {
   "cell_type": "markdown",
   "id": "3988c8af",
   "metadata": {},
   "source": [
    "###  Train Classifier: Training with Early Stopping and Validation Accuracy\n"
   ]
  },
  {
   "cell_type": "code",
   "execution_count": null,
   "id": "afc9f8ab",
   "metadata": {
    "execution": {
     "iopub.execute_input": "2025-04-13T03:41:20.729196Z",
     "iopub.status.busy": "2025-04-13T03:41:20.728779Z",
     "iopub.status.idle": "2025-04-13T03:41:20.746564Z",
     "shell.execute_reply": "2025-04-13T03:41:20.745773Z",
     "shell.execute_reply.started": "2025-04-13T03:41:20.729174Z"
    },
    "trusted": true
   },
   "outputs": [],
   "source": [
    "def train_classifier(\n",
    "    model,\n",
    "    train_loader,\n",
    "    val_loader,\n",
    "    optimizer,\n",
    "    criterion,\n",
    "    scheduler,\n",
    "    DEVICE,\n",
    "    epochs=20,\n",
    "    patience=4,\n",
    "):\n",
    "    model.to(DEVICE)\n",
    "    best_val_acc = 0\n",
    "    no_improve = 0\n",
    "    best_model_state = None\n",
    "\n",
    "    history = {\"train_loss\": [], \"val_accuracy\": []}\n",
    "\n",
    "    epoch_pbar = tqdm(total=epochs, desc=\"Training epochs\", position=0)\n",
    "    for epoch in range(epochs):\n",
    "        model.train()\n",
    "        total_loss = 0\n",
    "\n",
    "        batch_pbar = tqdm(\n",
    "            total=len(train_loader),\n",
    "            desc=f\"Epoch {epoch + 1}/{epochs}\",\n",
    "            position=1,\n",
    "            leave=False,\n",
    "        )\n",
    "        for batch in train_loader:\n",
    "            optimizer.zero_grad()\n",
    "            input_ids = batch[\"input_ids\"].to(DEVICE)\n",
    "            attention_mask = batch[\"attention_mask\"].to(DEVICE)\n",
    "            labels = batch[\"labels\"].to(DEVICE)\n",
    "\n",
    "            outputs = model(input_ids, attention_mask)\n",
    "            loss = criterion(outputs, labels)\n",
    "            loss.backward()\n",
    "            optimizer.step()\n",
    "            total_loss += loss.item()\n",
    "\n",
    "            batch_pbar.update(1)\n",
    "            batch_pbar.set_description(\n",
    "                f\"Epoch {epoch + 1}/{epochs} (loss: {loss.item():.4f})\"\n",
    "            )\n",
    "        batch_pbar.close()\n",
    "\n",
    "        avg_train_loss = total_loss / len(train_loader)\n",
    "        history[\"train_loss\"].append(avg_train_loss)\n",
    "        val_acc = evaluate_classifier(model, val_loader, DEVICE, metric=\"accuracy\")\n",
    "        history[\"val_accuracy\"].append(val_acc)\n",
    "        scheduler.step(val_acc)\n",
    "\n",
    "        epoch_pbar.set_description(\n",
    "            f\"Training epochs | Loss: {avg_train_loss:.4f} | Val Acc: {val_acc:.4f}\"\n",
    "        )\n",
    "        epoch_pbar.update(1)\n",
    "        if val_acc > best_val_acc:\n",
    "            best_val_acc = val_acc\n",
    "            best_model_state = model.state_dict().copy()\n",
    "            no_improve = 0\n",
    "        else:\n",
    "            no_improve += 1\n",
    "            if no_improve >= patience:\n",
    "                print(\"Early stopping triggered.\")\n",
    "                break\n",
    "    epoch_pbar.close()\n",
    "    return best_val_acc, best_model_state"
   ]
  },
  {
   "cell_type": "markdown",
   "id": "00c9e2ac",
   "metadata": {},
   "source": [
    "###  Hyperparameter Tuning: Search for Optimal Learning Rate and Dropout\n"
   ]
  },
  {
   "cell_type": "code",
   "execution_count": null,
   "id": "4f585302",
   "metadata": {
    "execution": {
     "iopub.execute_input": "2025-04-13T03:41:20.747675Z",
     "iopub.status.busy": "2025-04-13T03:41:20.747398Z",
     "iopub.status.idle": "2025-04-13T03:41:20.766260Z",
     "shell.execute_reply": "2025-04-13T03:41:20.765627Z",
     "shell.execute_reply.started": "2025-04-13T03:41:20.747651Z"
    },
    "trusted": true
   },
   "outputs": [],
   "source": [
    "def hyper_parameter_tuning():\n",
    "    hyperparameters = {\n",
    "        \"learning_rate\": [1e-5, 2e-5, 5e-5],\n",
    "        \"dropouts\": [0.3, 0.5],\n",
    "    }\n",
    "    wd = 0.001\n",
    "    results = []\n",
    "    best_val_acc = 0\n",
    "    best_model_state = None\n",
    "    best_hyperparams = {}\n",
    "\n",
    "    total_combinations = len(hyperparameters[\"learning_rate\"]) * len(\n",
    "        hyperparameters[\"dropouts\"]\n",
    "    )\n",
    "\n",
    "    hp_pbar = tqdm(total=total_combinations, desc=\"Hyperparameter tuning\", position=0)\n",
    "    for lr, dropout in product(\n",
    "        hyperparameters[\"learning_rate\"],\n",
    "        hyperparameters[\"dropouts\"],\n",
    "    ):\n",
    "        hp_pbar.set_description(\n",
    "            f\"Hyperparameter tuning | lr={lr}, dropout={dropout}, weight_decay={wd}\"\n",
    "        )\n",
    "\n",
    "        model = CaptionClassifier(dropout=dropout)\n",
    "        optimizer = AdamW(model.classifier.parameters(), lr=lr, weight_decay=wd)\n",
    "        criterion = nn.CrossEntropyLoss()\n",
    "        scheduler = ReduceLROnPlateau(\n",
    "            optimizer, mode=\"max\", factor=0.5, patience=1, verbose=True\n",
    "        )\n",
    "\n",
    "        (\n",
    "            val_acc,\n",
    "            model_state,\n",
    "        ) = train_classifier(\n",
    "            model,\n",
    "            train_loader,\n",
    "            val_loader,\n",
    "            optimizer,\n",
    "            criterion,\n",
    "            scheduler,\n",
    "            DEVICE=DEVICE,\n",
    "            epochs=20,\n",
    "            patience=4,\n",
    "        )\n",
    "\n",
    "        results.append(\n",
    "            {\"lr\": lr, \"dropout\": dropout, \"weight_decay\": wd, \"val_acc\": val_acc}\n",
    "        )\n",
    "\n",
    "        if val_acc > best_val_acc:\n",
    "            best_val_acc = val_acc\n",
    "            best_model_state = model_state\n",
    "            best_hyperparams = {\"lr\": lr, \"dropout\": dropout, \"weight_decay\": wd}\n",
    "        hp_pbar.update(1)\n",
    "    hp_pbar.close()\n",
    "    results_df = pd.DataFrame(results).sort_values(by=\"val_acc\", ascending=False)\n",
    "    print(\"\\nAll hyperparameter results:\")\n",
    "    print(results_df)\n",
    "    return best_model_state, best_hyperparams, best_val_acc"
   ]
  },
  {
   "cell_type": "markdown",
   "id": "b695dfe8",
   "metadata": {},
   "source": [
    "###  Hyperparameter Tuning: Identify Best Hyperparameters and Validation Accuracy\n"
   ]
  },
  {
   "cell_type": "code",
   "execution_count": null,
   "id": "62a3296c",
   "metadata": {
    "execution": {
     "iopub.execute_input": "2025-04-13T03:41:20.767193Z",
     "iopub.status.busy": "2025-04-13T03:41:20.766944Z",
     "iopub.status.idle": "2025-04-13T04:50:35.217612Z",
     "shell.execute_reply": "2025-04-13T04:50:35.216816Z",
     "shell.execute_reply.started": "2025-04-13T03:41:20.767169Z"
    },
    "trusted": true
   },
   "outputs": [],
   "source": [
    "best_model_state, best_hyperparams, best_val_acc = hyper_parameter_tuning()\n",
    "print(\"\\nBest hyperparameters with best validation accuracy of {best_val_acc:.4f}:\")\n",
    "print(best_hyperparams)"
   ]
  },
  {
   "cell_type": "markdown",
   "id": "f6f0a638",
   "metadata": {},
   "source": [
    "### Final Model: CaptionClassifier with Best Hyperparameters\n"
   ]
  },
  {
   "cell_type": "code",
   "execution_count": null,
   "id": "37ed19e6",
   "metadata": {
    "execution": {
     "iopub.execute_input": "2025-04-13T04:50:35.218958Z",
     "iopub.status.busy": "2025-04-13T04:50:35.218659Z",
     "iopub.status.idle": "2025-04-13T04:50:36.243888Z",
     "shell.execute_reply": "2025-04-13T04:50:36.243320Z",
     "shell.execute_reply.started": "2025-04-13T04:50:35.218932Z"
    },
    "trusted": true
   },
   "outputs": [],
   "source": [
    "final_model = CaptionClassifier(dropout=best_hyperparams[\"dropout\"])\n",
    "final_model.load_state_dict(best_model_state)\n",
    "final_model.to(DEVICE)"
   ]
  },
  {
   "cell_type": "code",
   "execution_count": null,
   "id": "f3cb89a7",
   "metadata": {
    "execution": {
     "iopub.execute_input": "2025-04-13T04:50:36.244693Z",
     "iopub.status.busy": "2025-04-13T04:50:36.244515Z",
     "iopub.status.idle": "2025-04-13T04:50:47.248052Z",
     "shell.execute_reply": "2025-04-13T04:50:47.247178Z",
     "shell.execute_reply.started": "2025-04-13T04:50:36.244679Z"
    },
    "trusted": true
   },
   "outputs": [],
   "source": [
    "print(\"\\nEvaluating on test set...\")\n",
    "test_metrics = evaluate_classifier(final_model, test_loader, DEVICE)\n",
    "print(f\"Test Accuracy: {test_metrics['accuracy']:.4f}\")\n",
    "print(f\"Test Precision: {test_metrics['precision']:.4f}\")\n",
    "print(f\"Test Recall: {test_metrics['recall']:.4f}\")\n",
    "print(f\"Test F1 Score: {test_metrics['f1']:.4f}\")"
   ]
  },
  {
   "cell_type": "markdown",
   "id": "82229509",
   "metadata": {},
   "source": [
    "### Plotting Confusion Matrix"
   ]
  },
  {
   "cell_type": "code",
   "execution_count": null,
   "id": "dcfe3d18-d126-403b-b315-5edc787e2684",
   "metadata": {
    "execution": {
     "iopub.execute_input": "2025-04-13T04:50:47.249819Z",
     "iopub.status.busy": "2025-04-13T04:50:47.249234Z",
     "iopub.status.idle": "2025-04-13T04:50:58.482477Z",
     "shell.execute_reply": "2025-04-13T04:50:58.481609Z",
     "shell.execute_reply.started": "2025-04-13T04:50:47.249789Z"
    },
    "trusted": true
   },
   "outputs": [],
   "source": [
    "def plot_confusion_matrix(y_true, y_pred, classes):\n",
    "    cm = confusion_matrix(y_true, y_pred)\n",
    "    disp = ConfusionMatrixDisplay(confusion_matrix=cm, display_labels=classes)\n",
    "    disp.plot(cmap=\"Blues\")\n",
    "    plt.title(\"Confusion Matrix\")\n",
    "    plt.show()\n",
    "\n",
    "\n",
    "y_true = test_labels\n",
    "y_pred = final_model.predict(test_loader)\n",
    "plot_confusion_matrix(y_true, y_pred, classes=[\"SmolVLM\", \"Custom Model\"])"
   ]
  }
 ],
 "metadata": {
  "kaggle": {
   "accelerator": "gpu",
   "dataSources": [
    {
     "datasetId": 7126285,
     "sourceId": 11381293,
     "sourceType": "datasetVersion"
    }
   ],
   "dockerImageVersionId": 31011,
   "isGpuEnabled": true,
   "isInternetEnabled": true,
   "language": "python",
   "sourceType": "notebook"
  },
  "kernelspec": {
   "display_name": "Python 3",
   "language": "python",
   "name": "python3"
  },
  "language_info": {
   "codemirror_mode": {
    "name": "ipython",
    "version": 3
   },
   "file_extension": ".py",
   "mimetype": "text/x-python",
   "name": "python",
   "nbconvert_exporter": "python",
   "pygments_lexer": "ipython3",
   "version": "3.9.6"
  }
 },
 "nbformat": 4,
 "nbformat_minor": 5
}
