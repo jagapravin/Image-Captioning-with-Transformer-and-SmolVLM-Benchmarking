{
 "cells": [
  {
   "cell_type": "markdown",
   "id": "a608ec97",
   "metadata": {},
   "source": [
    "### Import Packages"
   ]
  },
  {
   "cell_type": "code",
   "execution_count": 1,
   "id": "942d95ca",
   "metadata": {
    "execution": {
     "iopub.execute_input": "2025-04-11T12:54:34.191683Z",
     "iopub.status.busy": "2025-04-11T12:54:34.191397Z",
     "iopub.status.idle": "2025-04-11T12:54:40.096987Z",
     "shell.execute_reply": "2025-04-11T12:54:40.096176Z",
     "shell.execute_reply.started": "2025-04-11T12:54:34.191654Z"
    },
    "trusted": true
   },
   "outputs": [
    {
     "name": "stdout",
     "output_type": "stream",
     "text": [
      "^C\n",
      "Note: you may need to restart the kernel to use updated packages.\n"
     ]
    },
    {
     "name": "stdout",
     "output_type": "stream",
     "text": [
      "Defaulting to user installation because normal site-packages is not writeable\n",
      "Requirement already satisfied: nltk in c:\\users\\vinoth kumar m\\appdata\\roaming\\python\\python312\\site-packages (3.9.1)\n",
      "Requirement already satisfied: rouge-score in c:\\users\\vinoth kumar m\\appdata\\roaming\\python\\python312\\site-packages (0.1.2)\n",
      "Requirement already satisfied: click in c:\\users\\vinoth kumar m\\appdata\\roaming\\python\\python312\\site-packages (from nltk) (8.1.7)\n",
      "Requirement already satisfied: joblib in c:\\users\\vinoth kumar m\\appdata\\roaming\\python\\python312\\site-packages (from nltk) (1.4.2)\n",
      "Requirement already satisfied: regex>=2021.8.3 in c:\\users\\vinoth kumar m\\appdata\\roaming\\python\\python312\\site-packages (from nltk) (2024.7.24)\n",
      "Requirement already satisfied: tqdm in c:\\users\\vinoth kumar m\\appdata\\roaming\\python\\python312\\site-packages (from nltk) (4.66.5)\n",
      "Requirement already satisfied: absl-py in c:\\users\\vinoth kumar m\\appdata\\roaming\\python\\python312\\site-packages (from rouge-score) (2.1.0)\n",
      "Requirement already satisfied: numpy in c:\\users\\vinoth kumar m\\appdata\\roaming\\python\\python312\\site-packages (from rouge-score) (2.2.4)\n",
      "Requirement already satisfied: six>=1.14.0 in c:\\users\\vinoth kumar m\\appdata\\roaming\\python\\python312\\site-packages (from rouge-score) (1.16.0)\n",
      "Requirement already satisfied: colorama in c:\\users\\vinoth kumar m\\appdata\\roaming\\python\\python312\\site-packages (from click->nltk) (0.4.6)\n"
     ]
    }
   ],
   "source": [
    "%pip install -U nltk rouge-score"
   ]
  },
  {
   "cell_type": "code",
   "execution_count": null,
   "id": "46e6ff3b",
   "metadata": {
    "execution": {
     "iopub.execute_input": "2025-04-11T12:54:40.099069Z",
     "iopub.status.busy": "2025-04-11T12:54:40.098812Z",
     "iopub.status.idle": "2025-04-11T12:55:03.801815Z",
     "shell.execute_reply": "2025-04-11T12:55:03.801055Z",
     "shell.execute_reply.started": "2025-04-11T12:54:40.099049Z"
    },
    "trusted": true
   },
   "outputs": [],
   "source": [
    "import os\n",
    "import random\n",
    "\n",
    "import nltk\n",
    "import numpy as np\n",
    "import pandas as pd\n",
    "import torch\n",
    "from nltk.translate.bleu_score import corpus_bleu\n",
    "from nltk.translate.meteor_score import meteor_score\n",
    "from PIL import Image\n",
    "from rouge_score import rouge_scorer\n",
    "from tqdm import tqdm\n",
    "from transformers import AutoModelForVision2Seq, AutoProcessor\n",
    "from transformers.image_utils import load_image"
   ]
  },
  {
   "cell_type": "code",
   "execution_count": null,
   "id": "8bed6601",
   "metadata": {
    "execution": {
     "iopub.execute_input": "2025-04-11T12:55:03.803121Z",
     "iopub.status.busy": "2025-04-11T12:55:03.802618Z",
     "iopub.status.idle": "2025-04-11T12:55:03.993067Z",
     "shell.execute_reply": "2025-04-11T12:55:03.992512Z",
     "shell.execute_reply.started": "2025-04-11T12:55:03.803100Z"
    },
    "trusted": true
   },
   "outputs": [],
   "source": [
    "nltk.download(\"punkt\", quiet=True)\n",
    "nltk.download(\"wordnet\", quiet=True)"
   ]
  },
  {
   "cell_type": "markdown",
   "id": "d48ece6a",
   "metadata": {},
   "source": [
    "### Environment Setup and Library Imports"
   ]
  },
  {
   "cell_type": "code",
   "execution_count": null,
   "id": "2c0d2a60",
   "metadata": {
    "execution": {
     "iopub.execute_input": "2025-04-11T12:55:03.994594Z",
     "iopub.status.busy": "2025-04-11T12:55:03.994369Z",
     "iopub.status.idle": "2025-04-11T12:55:04.073575Z",
     "shell.execute_reply": "2025-04-11T12:55:04.073077Z",
     "shell.execute_reply.started": "2025-04-11T12:55:03.994576Z"
    },
    "trusted": true
   },
   "outputs": [],
   "source": [
    "def set_seed(seed=42):\n",
    "    random.seed(seed)\n",
    "    np.random.seed(seed)\n",
    "    torch.manual_seed(seed)\n",
    "    torch.cuda.manual_seed_all(seed)\n",
    "    torch.backends.cudnn.deterministic = True\n",
    "    torch.backends.cudnn.benchmark = False\n",
    "\n",
    "\n",
    "set_seed()\n",
    "device = \"cuda\" if torch.cuda.is_available() else \"cpu\""
   ]
  },
  {
   "cell_type": "markdown",
   "id": "45be4889",
   "metadata": {},
   "source": [
    "### Evaluation Metrics: BLEU, ROUGE-L, and METEOR"
   ]
  },
  {
   "cell_type": "code",
   "execution_count": null,
   "id": "80d11869",
   "metadata": {
    "execution": {
     "iopub.execute_input": "2025-04-11T12:55:04.074556Z",
     "iopub.status.busy": "2025-04-11T12:55:04.074320Z",
     "iopub.status.idle": "2025-04-11T12:55:04.080022Z",
     "shell.execute_reply": "2025-04-11T12:55:04.079255Z",
     "shell.execute_reply.started": "2025-04-11T12:55:04.074539Z"
    },
    "trusted": true
   },
   "outputs": [],
   "source": [
    "def calculate_metrics(predictions, ground_truths):\n",
    "    references_for_bleu = [[gt.split()] for gt in ground_truths]\n",
    "    predictions_for_bleu = [pred.split() for pred in predictions]\n",
    "    bleu = corpus_bleu(references_for_bleu, predictions_for_bleu)\n",
    "\n",
    "    scorer = rouge_scorer.RougeScorer([\"rougeL\"], use_stemmer=True)\n",
    "    rouge_scores = []\n",
    "    for pred, ref in zip(predictions, ground_truths):\n",
    "        rouge_result = scorer.score(ref, pred)\n",
    "        rouge_scores.append(rouge_result[\"rougeL\"].fmeasure)\n",
    "    avg_rouge = sum(rouge_scores) / len(rouge_scores) if rouge_scores else 0\n",
    "\n",
    "    meteor_scores = []\n",
    "    for pred, ref in zip(predictions, ground_truths):\n",
    "        meteor_scores.append(meteor_score([ref.split()], pred.split()))\n",
    "    avg_meteor = sum(meteor_scores) / len(meteor_scores) if meteor_scores else 0\n",
    "\n",
    "    return {\"BLEU\": bleu, \"ROUGE-L\": avg_rouge, \"METEOR\": avg_meteor}"
   ]
  },
  {
   "cell_type": "markdown",
   "id": "5e83a1bd",
   "metadata": {},
   "source": [
    "### Zero-Shot Image Captioning and Evaluation Pipeline"
   ]
  },
  {
   "cell_type": "code",
   "execution_count": null,
   "id": "0aa1d517",
   "metadata": {
    "execution": {
     "iopub.execute_input": "2025-04-11T12:55:04.080939Z",
     "iopub.status.busy": "2025-04-11T12:55:04.080715Z",
     "iopub.status.idle": "2025-04-11T12:55:04.095934Z",
     "shell.execute_reply": "2025-04-11T12:55:04.095237Z",
     "shell.execute_reply.started": "2025-04-11T12:55:04.080922Z"
    },
    "trusted": true
   },
   "outputs": [],
   "source": [
    "def zero_shot_captioning(\n",
    "    image_path, model, processor, model_name=\"HuggingFaceTB/SmolVLM-Instruct\"\n",
    "):\n",
    "    try:\n",
    "        image = load_image(image_path)\n",
    "        message = [\n",
    "            {\n",
    "                \"role\": \"user\",\n",
    "                \"content\": [\n",
    "                    {\"type\": \"image\", \"image\": image},\n",
    "                    {\"type\": \"text\", \"text\": \"Please Describe the Image\"},\n",
    "                ],\n",
    "            }\n",
    "        ]\n",
    "        prompt = processor.apply_chat_template(message, add_generation_prompt=True)\n",
    "\n",
    "        inputs = processor(\n",
    "            images=image, text=prompt, return_tensors=\"pt\", padding=True\n",
    "        ).to(device)\n",
    "\n",
    "        with torch.no_grad():\n",
    "            generated_ids = model.generate(**inputs, max_new_tokens=128)\n",
    "            generated_ids = generated_ids[:, inputs[\"input_ids\"].size(1) :]\n",
    "        text = processor.batch_decode(generated_ids, skip_special_tokens=True)[0]\n",
    "        print(f\"Generated Caption: {text}\")\n",
    "        return text\n",
    "    except Exception as e:\n",
    "        print(f\"Error processing {image_path}: {e}\")\n",
    "        return \"\"\n",
    "\n",
    "\n",
    "def evaluate_zero_shot(\n",
    "    model_name=\"HuggingFaceTB/SmolVLM-Instruct\",\n",
    "    test_csv_path=\"./custom_captions_dataset/test.csv\",\n",
    "    image_dir=\"./custom_captions_dataset/test/\",\n",
    "):\n",
    "    processor = AutoProcessor.from_pretrained(model_name)\n",
    "    model = AutoModelForVision2Seq.from_pretrained(\n",
    "        model_name,\n",
    "        torch_dtype=torch.bfloat16,\n",
    "        _attn_implementation=\"eager\",\n",
    "    ).to(device)\n",
    "\n",
    "    test_data_frame = pd.read_csv(test_csv_path)\n",
    "\n",
    "    predictions, ground_truths = [], []\n",
    "\n",
    "    for idx in tqdm(range(len(test_data_frame)), desc=\"Processing Images\"):\n",
    "        image_data = test_data_frame.iloc[idx]\n",
    "        complete_path = os.path.join(image_dir, image_data[\"filename\"])\n",
    "\n",
    "        generated_text = zero_shot_captioning(\n",
    "            complete_path, model, processor, model_name\n",
    "        )\n",
    "        if generated_text:\n",
    "            predictions.append(generated_text)\n",
    "            ground_truths.append(image_data[\"caption\"])\n",
    "\n",
    "        if device == \"cuda\":\n",
    "            torch.cuda.empty_cache()\n",
    "\n",
    "    results = calculate_metrics(predictions, ground_truths)\n",
    "\n",
    "    print(\"Evaluation Results:\")\n",
    "    for metric, value in results.items():\n",
    "        print(f\"{metric} Score: {value:.4f}\")\n",
    "\n",
    "    return results\n"
   ]
  },
  {
   "cell_type": "markdown",
   "id": "1230c907",
   "metadata": {},
   "source": [
    "### Running Zero-Shot Evaluation on Custom Dataset\n"
   ]
  },
  {
   "cell_type": "code",
   "execution_count": null,
   "id": "f2d023a7",
   "metadata": {
    "execution": {
     "iopub.execute_input": "2025-04-11T12:55:04.096912Z",
     "iopub.status.busy": "2025-04-11T12:55:04.096614Z",
     "iopub.status.idle": "2025-04-11T14:37:51.913806Z",
     "shell.execute_reply": "2025-04-11T14:37:51.913184Z",
     "shell.execute_reply.started": "2025-04-11T12:55:04.096886Z"
    },
    "trusted": true
   },
   "outputs": [],
   "source": [
    "test_csv_path = \"/kaggle/input/dl-assignment-2/custom_captions_dataset/test.csv\"\n",
    "image_dir = \"/kaggle/input/dl-assignment-2/custom_captions_dataset/test/\"\n",
    "\n",
    "results_smol = evaluate_zero_shot(\n",
    "    model_name=\"HuggingFaceTB/SmolVLM-Instruct\",\n",
    "    test_csv_path=test_csv_path,\n",
    "    image_dir=image_dir,\n",
    ")"
   ]
  },
  {
   "cell_type": "markdown",
   "id": "151ad16e",
   "metadata": {},
   "source": [
    "### Storing results"
   ]
  },
  {
   "cell_type": "code",
   "execution_count": null,
   "id": "d4bdd057-7710-4b19-922a-e4a1a56c6e6b",
   "metadata": {
    "execution": {
     "iopub.execute_input": "2025-04-11T14:37:51.915655Z",
     "iopub.status.busy": "2025-04-11T14:37:51.915431Z",
     "iopub.status.idle": "2025-04-11T14:37:51.924531Z",
     "shell.execute_reply": "2025-04-11T14:37:51.924040Z",
     "shell.execute_reply.started": "2025-04-11T14:37:51.915638Z"
    },
    "trusted": true
   },
   "outputs": [],
   "source": [
    "results_df = pd.DataFrame([results_smol])\n",
    "results_df.to_csv(\"/kaggle/working/smol_results.csv\", index=False)"
   ]
  }
 ],
 "metadata": {
  "kaggle": {
   "accelerator": "gpu",
   "dataSources": [
    {
     "datasetId": 6967565,
     "sourceId": 11327601,
     "sourceType": "datasetVersion"
    }
   ],
   "dockerImageVersionId": 31011,
   "isGpuEnabled": true,
   "isInternetEnabled": true,
   "language": "python",
   "sourceType": "notebook"
  },
  "kernelspec": {
   "display_name": "Python 3",
   "language": "python",
   "name": "python3"
  },
  "language_info": {
   "codemirror_mode": {
    "name": "ipython",
    "version": 3
   },
   "file_extension": ".py",
   "mimetype": "text/x-python",
   "name": "python",
   "nbconvert_exporter": "python",
   "pygments_lexer": "ipython3",
   "version": "3.12.3"
  }
 },
 "nbformat": 4,
 "nbformat_minor": 5
}
